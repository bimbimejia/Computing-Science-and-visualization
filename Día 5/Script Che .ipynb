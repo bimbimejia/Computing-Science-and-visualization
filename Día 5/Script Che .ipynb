{
 "cells": [
  {
   "cell_type": "code",
   "execution_count": 6,
   "metadata": {
    "collapsed": false
   },
   "outputs": [],
   "source": [
    "\n",
    "\n",
    "# Read the file (to test that it was written correctly)\n",
    "reader = vtk.vtkXMLImageDataReader()\n",
    "reader.SetFileName(\"data/challenge_0.vti\")\n",
    "reader.Update()\n",
    "\n",
    "# Convert the image to a polydata\n",
    "imageDataGeometryFilter = vtk.vtkImageDataGeometryFilter()\n",
    "imageDataGeometryFilter.SetInputConnection(reader.GetOutputPort())\n",
    "imageDataGeometryFilter.Update()\n",
    "\n",
    "scalarRange = reader.GetOutput().GetPointData().GetScalars().GetRange(-1)\n",
    "contoursFilter = vtk.vtkContourFilter()\n",
    "contoursFilter.SetInputConnection(imageDataGeometryFilter.GetOutputPort())\n",
    "contoursFilter.GenerateValues(10, scalarRange)\n",
    "\n",
    "contoursMapper = vtk.vtkPolyDataMapper()\n",
    "contoursMapper.SetInputConnection(contoursFilter.GetOutputPort())\n",
    "\n",
    "contoursActor = vtk.vtkActor()\n",
    "contoursActor.SetMapper(contoursMapper)\n",
    "\n",
    "actor = vtk.vtkActor()\n",
    "actor.SetMapper(contoursMapper)\n",
    " \n",
    "# Setup rendering\n",
    "renderer = vtk.vtkRenderer()\n",
    "renderer.AddActor(actor)\n",
    "renderer.SetBackground(1,1,1)\n",
    "renderer.ResetCamera()\n",
    " \n",
    "renderWindow = vtk.vtkRenderWindow()\n",
    "renderWindow.AddRenderer(renderer)\n",
    " \n",
    "renderWindowInteractor = vtk.vtkRenderWindowInteractor()\n",
    " \n",
    "renderWindowInteractor.SetRenderWindow(renderWindow)\n",
    "renderWindowInteractor.Start()\n",
    "\n"
   ]
  },
  {
   "cell_type": "code",
   "execution_count": null,
   "metadata": {
    "collapsed": true
   },
   "outputs": [],
   "source": []
  },
  {
   "cell_type": "code",
   "execution_count": null,
   "metadata": {
    "collapsed": true
   },
   "outputs": [],
   "source": []
  }
 ],
 "metadata": {
  "kernelspec": {
   "display_name": "Python 3",
   "language": "python",
   "name": "python3"
  },
  "language_info": {
   "codemirror_mode": {
    "name": "ipython",
    "version": 3
   },
   "file_extension": ".py",
   "mimetype": "text/x-python",
   "name": "python",
   "nbconvert_exporter": "python",
   "pygments_lexer": "ipython3",
   "version": "3.5.1"
  }
 },
 "nbformat": 4,
 "nbformat_minor": 0
}
