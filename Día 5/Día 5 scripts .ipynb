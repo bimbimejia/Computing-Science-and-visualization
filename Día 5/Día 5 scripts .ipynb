{
 "cells": [
  {
   "cell_type": "markdown",
   "metadata": {},
   "source": []
  },
  {
   "cell_type": "code",
   "execution_count": 5,
   "metadata": {
    "collapsed": true
   },
   "outputs": [],
   "source": [
    "import vtk\n",
    "\n",
    "# Read the file (to test that it was written correctly)\n",
    "reader = vtk.vtkXMLImageDataReader()\n",
    "reader.SetFileName(\"./data/wind_image.vti\")\n",
    "reader.Update()\n",
    "\n",
    "scalarRange = reader.GetOutput().GetPointData().GetScalars().GetRange(-1)\n",
    "contoursFilter = vtk.vtkContourFilter()\n",
    "contoursFilter.SetInputConnection(reader.GetOutputPort())\n",
    "contoursFilter.GenerateValues(32, scalarRange)\n",
    "\n",
    "contoursMapper = vtk.vtkPolyDataMapper()\n",
    "contoursMapper.SetInputConnection(contoursFilter.GetOutputPort())\n",
    "contoursMapper.SetColorModeToMapScalars()\n",
    "contoursMapper.ScalarVisibilityOn()\n",
    "contoursMapper.SelectColorArray(\"wind_speed\")\n",
    "contoursMapper.SetScalarRange(scalarRange)\n",
    "\n",
    "contoursActor = vtk.vtkActor()\n",
    "contoursActor.SetMapper(contoursMapper)\n",
    "\n",
    "actor = vtk.vtkActor()\n",
    "actor.SetMapper(contoursMapper)\n",
    "actor.GetProperty().SetOpacity(.3)\n",
    " \n",
    "# Setup rendering\n",
    "renderer = vtk.vtkRenderer()\n",
    "renderer.AddActor(actor)\n",
    "renderer.SetBackground(1,1,1)\n",
    "renderer.ResetCamera()\n",
    " \n",
    "renderWindow = vtk.vtkRenderWindow()\n",
    "renderWindow.AddRenderer(renderer)\n",
    " \n",
    "renderWindowInteractor = vtk.vtkRenderWindowInteractor()\n",
    " \n",
    "renderWindowInteractor.SetRenderWindow(renderWindow)\n",
    "renderWindowInteractor.Start()"
   ]
  },
  {
   "cell_type": "markdown",
   "metadata": {
    "collapsed": true
   },
   "source": [
    "<img src = \"../Día 5/isosurfaces 2.png\" width= 400>"
   ]
  },
  {
   "cell_type": "markdown",
   "metadata": {},
   "source": [
    "<img src = \"../Día 5/Isosurfaces result 1.png\" width= 400>"
   ]
  },
  {
   "cell_type": "code",
   "execution_count": null,
   "metadata": {
    "collapsed": true
   },
   "outputs": [],
   "source": [
    "import vtk\n",
    "\n",
    "#------------READER ----------------------\n",
    "rectGridReader = vtk.vtkXMLImageDataReader()\n",
    "rectGridReader.SetFileName(\"C:/Users/LM.MEJIA10/Desktop/Computing-Science-and-visualization-master/data/wind_image.vti\")\n",
    "rectGridReader.Update()\n",
    "#------------END READER ------------------\n",
    "\n",
    "imageDataGeometryFilter = vtk.vtkImageDataGeometryFilter()\n",
    "imageDataGeometryFilter.SetInputConnection(rectGridReader.GetOutputPort())\n",
    "imageDataGeometryFilter.Update()\n",
    "\n",
    "scalarRange = rectGridReader.GetOutput().GetPointData().GetScalars().GetRange(-1)\n",
    "contoursFilter = vtk.vtkContourFilter()\n",
    "contoursFilter.SetInputConnection(imageDataGeometryFilter.GetOutputPort())\n",
    "contoursFilter.GenerateValues(30, scalarRange)\n",
    "\n",
    "#------------ FILTER: CALCULATE VECTOR MAGNITUDE ----------------------\n",
    "magnitudeCalcFilter = vtk.vtkArrayCalculator()\n",
    "magnitudeCalcFilter.SetInputConnection(rectGridReader.GetOutputPort())\n",
    "magnitudeCalcFilter.AddVectorArrayName('wind_velocity')\n",
    "magnitudeCalcFilter.SetResultArrayName('magnitude')\n",
    "magnitudeCalcFilter.SetFunction(\"mag(wind_velocity)\") \n",
    "magnitudeCalcFilter.Update()\n",
    "#------------END CALCULATE VECTOR MAGNITUDE ----------------------\n",
    "\n",
    "#------------FILTER: RECTILINEAR GRID TO IMAGE DATA-----------\n",
    "bounds = magnitudeCalcFilter.GetOutput().GetBounds()\n",
    "dimensions = magnitudeCalcFilter.GetOutput().GetDimensions()\n",
    "origin = (bounds[0], bounds[2], bounds[4])\n",
    "spacing = ( (bounds[1]-bounds[0])/dimensions[0], \n",
    "            (bounds[3]-bounds[2])/dimensions[1],\n",
    "            (bounds[5]-bounds[4])/dimensions[2])\n",
    "\n",
    "imageData = vtk.vtkImageData()\n",
    "imageData.SetOrigin(origin)\n",
    "imageData.SetDimensions(dimensions)\n",
    "imageData.SetSpacing(spacing)\n",
    "\n",
    "probeFilter = vtk.vtkProbeFilter()\n",
    "probeFilter.SetInputData(imageData)\n",
    "probeFilter.SetSourceData(magnitudeCalcFilter.GetOutput())\n",
    "probeFilter.Update()\n",
    "\n",
    "imageData2 = probeFilter.GetImageDataOutput()\n",
    "#------------END RECTILINEAR GRID TO IMAGE DATA-----------\n",
    "\n",
    "##------------FILTER, MAPPER, AND ACTOR: VOLUME RENDERING -------------------\n",
    "# Create transfer mapping scalar value to opacity\n",
    "opacityTransferFunction = vtk.vtkPiecewiseFunction()\n",
    "opacityTransferFunction.AddPoint(0, 0.2)\n",
    "opacityTransferFunction.AddPoint(6, .1)\n",
    "opacityTransferFunction.AddPoint(30, 0.0)\n",
    "opacityTransferFunction.AddPoint(50, 0.6)\n",
    "opacityTransferFunction.AddPoint(60, 0.7)\n",
    "\n",
    "# Create transfer mapping scalar value to color\n",
    "colorTransferFunction = vtk.vtkColorTransferFunction()\n",
    "colorTransferFunction.AddRGBPoint(0.0, 0.0, 0.0, 0.0)\n",
    "colorTransferFunction.AddRGBPoint(0.5, 1.0, 0.0, 0.0)\n",
    "colorTransferFunction.AddRGBPoint(2.0, 0.0, 0.0, 1.0)\n",
    "colorTransferFunction.AddRGBPoint(6.0, 0.0, 0.0, 1.0)\n",
    "colorTransferFunction.AddRGBPoint(14.0, 0.0, 0.2, 0.0)\n",
    "colorTransferFunction.AddRGBPoint(50, 1.0, 0.0, 0.0)\n",
    "\n",
    "# The property describes how the data will look\n",
    "volumeProperty = vtk.vtkVolumeProperty()\n",
    "volumeProperty.SetColor(colorTransferFunction)\n",
    "volumeProperty.SetScalarOpacity(opacityTransferFunction)\n",
    "volumeProperty.ShadeOff()\n",
    "volumeProperty.SetInterpolationTypeToLinear()\n",
    "\n",
    "\n",
    "# The mapper / ray cast function know how to render the data\n",
    "volumeMapper = vtk.vtkGPUVolumeRayCastMapper()\n",
    "volumeMapper.SetInputData(imageData2)\n",
    "\n",
    "# The volume holds the mapper and the property and\n",
    "# can be used to position/orient the volume\n",
    "volume = vtk.vtkVolume()\n",
    "volume.SetMapper(volumeMapper)\n",
    "volume.SetProperty(volumeProperty)\n",
    "\n",
    "##------------END VOLUME RENDERING ----------------------\n",
    "\n",
    "#---------RENDERER, RENDER WINDOW, AND INTERACTOR ----------\n",
    "renderer = vtk.vtkRenderer()\n",
    "renderer.SetBackground(0.5, 0.5, 0.5)\n",
    "renderer.AddVolume(volume)\n",
    "renderer.ResetCamera()\n",
    "\n",
    "renderWindow = vtk.vtkRenderWindow()\n",
    "renderWindow.AddRenderer(renderer)\n",
    "renderWindow.SetSize(500, 500)\n",
    "renderWindow.Render()\n",
    "\n",
    "iren = vtk.vtkRenderWindowInteractor()\n",
    "iren.SetRenderWindow(renderWindow)\n",
    "iren.Start()\n",
    "#---------END RENDERER, RENDER WINDOW, AND INTERACTOR -------"
   ]
  },
  {
   "cell_type": "markdown",
   "metadata": {},
   "source": [
    "<img src = \"../Día 5/calculator results2.png\" width= 400>"
   ]
  },
  {
   "cell_type": "markdown",
   "metadata": {},
   "source": [
    "<img src = \"../Día 5/Calculator resutls.png \"width= 400>"
   ]
  },
  {
   "cell_type": "markdown",
   "metadata": {},
   "source": [
    "El interior de la imagen donde se encuentra el flujo de aire de la imagen se aumento su opacidad y se le asigna un color que represente el flujo \n"
   ]
  }
 ],
 "metadata": {
  "kernelspec": {
   "display_name": "Python 3",
   "language": "python",
   "name": "python3"
  },
  "language_info": {
   "codemirror_mode": {
    "name": "ipython",
    "version": 3
   },
   "file_extension": ".py",
   "mimetype": "text/x-python",
   "name": "python",
   "nbconvert_exporter": "python",
   "pygments_lexer": "ipython3",
   "version": "3.5.1"
  }
 },
 "nbformat": 4,
 "nbformat_minor": 0
}
