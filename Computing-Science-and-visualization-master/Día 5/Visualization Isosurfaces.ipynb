{
 "cells": [
  {
   "cell_type": "code",
   "execution_count": 6,
   "metadata": {
    "collapsed": false
   },
   "outputs": [],
   "source": [
    "import vtk\n",
    "\n",
    "# Read the file (to test that it was written correctly)\n",
    "reader = vtk.vtkXMLImageDataReader()\n",
    "reader.SetFileName(\"C:/Users/LM.MEJIA10/Desktop/Computing-Science-and-visualization-master/data/wind_image.vti\")\n",
    "reader.Update()\n",
    "\n",
    "scalarRange = reader.GetOutput().GetPointData().GetScalars().GetRange(-1)\n",
    "contoursFilter = vtk.vtkContourFilter()\n",
    "contoursFilter.SetInputConnection(reader.GetOutputPort())\n",
    "contoursFilter.GenerateValues(32, scalarRange)\n",
    "\n",
    "contoursMapper = vtk.vtkPolyDataMapper()\n",
    "contoursMapper.SetInputConnection(contoursFilter.GetOutputPort())\n",
    "contoursMapper.SetColorModeToMapScalars()\n",
    "contoursMapper.ScalarVisibilityOn()\n",
    "contoursMapper.SelectColorArray(\"wind_speed\")\n",
    "contoursMapper.SetScalarRange(scalarRange)\n",
    "\n",
    "contoursActor = vtk.vtkActor()\n",
    "contoursActor.SetMapper(contoursMapper)\n",
    "\n",
    "actor = vtk.vtkActor()\n",
    "actor.SetMapper(contoursMapper)\n",
    "actor.GetProperty().SetOpacity(.3)\n",
    " \n",
    "# Setup rendering\n",
    "renderer = vtk.vtkRenderer()\n",
    "renderer.AddActor(actor)\n",
    "renderer.SetBackground(1,1,1)\n",
    "renderer.ResetCamera()\n",
    " \n",
    "renderWindow = vtk.vtkRenderWindow()\n",
    "renderWindow.AddRenderer(renderer)\n",
    " \n",
    "renderWindowInteractor = vtk.vtkRenderWindowInteractor()\n",
    " \n",
    "renderWindowInteractor.SetRenderWindow(renderWindow)\n",
    "renderWindowInteractor.Start()\n"
   ]
  },
  {
   "cell_type": "code",
   "execution_count": 6,
   "metadata": {
    "collapsed": false
   },
   "outputs": [],
   "source": []
  },
  {
   "cell_type": "code",
   "execution_count": null,
   "metadata": {
    "collapsed": true
   },
   "outputs": [],
   "source": []
  }
 ],
 "metadata": {
  "kernelspec": {
   "display_name": "Python 3",
   "language": "python",
   "name": "python3"
  },
  "language_info": {
   "codemirror_mode": {
    "name": "ipython",
    "version": 3
   },
   "file_extension": ".py",
   "mimetype": "text/x-python",
   "name": "python",
   "nbconvert_exporter": "python",
   "pygments_lexer": "ipython3",
   "version": "3.5.1"
  }
 },
 "nbformat": 4,
 "nbformat_minor": 0
}
