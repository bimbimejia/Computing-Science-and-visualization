{
 "cells": [
  {
   "cell_type": "markdown",
   "metadata": {},
   "source": [
    "## Tarea Día 1"
   ]
  },
  {
   "cell_type": "code",
   "execution_count": 3,
   "metadata": {},
   "outputs": [
    {
     "name": "stdout",
     "output_type": "stream",
     "text": [
      "[ 0.05952154  0.02660571  0.0410889   0.05406192  0.02406722  0.01283059\n",
      "  0.02175556  0.00938175  0.07597993  0.07080756  0.08632083  0.09762034\n",
      "  0.0249537   0.002427    0.1115276   0.06469337  0.05700136  0.01469841\n",
      "  0.03543404  0.10922266]\n",
      "1.0\n"
     ]
    }
   ],
   "source": [
    "import numpy as np\n",
    "a = np.random.random(20)\n",
    "a /= a.sum()\n",
    "    \n",
    "print (a)\n",
    "print(sum(a))"
   ]
  },
  {
   "cell_type": "code",
   "execution_count": 4,
   "metadata": {
    "collapsed": true
   },
   "outputs": [],
   "source": [
    "#NumPy is the fundamental package for scientific computing with Python. It contains among other things:\n",
    "\n",
    "    #a powerful N-dimensional array object\n",
    "    #sophisticated (broadcasting) functions\n",
    "    #tools for integrating C/C++ and Fortran code\n",
    "    #useful linear algebra, Fourier transform, and random number capabilities\n",
    "    \n",
    "#Besides its obvious scientific uses, NumPy can also be used as an efficient multi-dimensional container \n",
    "#of generic data. Arbitrary data-types can be defined. \n",
    "#This allows NumPy to seamlessly and speedily integrate with a wide variety of databases.\n",
    "#http://www.numpy.org/"
   ]
  },
  {
   "cell_type": "code",
   "execution_count": null,
   "metadata": {
    "collapsed": true
   },
   "outputs": [],
   "source": []
  }
 ],
 "metadata": {
  "kernelspec": {
   "display_name": "Python 3",
   "language": "python",
   "name": "python3"
  },
  "language_info": {
   "codemirror_mode": {
    "name": "ipython",
    "version": 3
   },
   "file_extension": ".py",
   "mimetype": "text/x-python",
   "name": "python",
   "nbconvert_exporter": "python",
   "pygments_lexer": "ipython3",
   "version": "3.6.1"
  }
 },
 "nbformat": 4,
 "nbformat_minor": 2
}
