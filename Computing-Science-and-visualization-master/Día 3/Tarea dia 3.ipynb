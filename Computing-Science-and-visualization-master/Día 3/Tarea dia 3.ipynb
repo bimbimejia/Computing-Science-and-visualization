{
 "cells": [
  {
   "cell_type": "markdown",
   "metadata": {},
   "source": [
    "## Tarea 3"
   ]
  },
  {
   "cell_type": "markdown",
   "metadata": {},
   "source": [
    "# Script Correction\n",
    "\n",
    "Para corregir el script comenzamos por organizarlo y despues agregamos los actores que hacian falta para poder hacer el render completo."
   ]
  },
  {
   "cell_type": "code",
   "execution_count": 2,
   "metadata": {},
   "outputs": [
    {
     "ename": "ModuleNotFoundError",
     "evalue": "No module named 'vtk'",
     "output_type": "error",
     "traceback": [
      "\u001b[1;31m---------------------------------------------------------------------------\u001b[0m",
      "\u001b[1;31mModuleNotFoundError\u001b[0m                       Traceback (most recent call last)",
      "\u001b[1;32m<ipython-input-2-72ea63d1d911>\u001b[0m in \u001b[0;36m<module>\u001b[1;34m()\u001b[0m\n\u001b[1;32m----> 1\u001b[1;33m \u001b[1;32mimport\u001b[0m \u001b[0mvtk\u001b[0m\u001b[1;33m\u001b[0m\u001b[0m\n\u001b[0m\u001b[0;32m      2\u001b[0m \u001b[1;33m\u001b[0m\u001b[0m\n\u001b[0;32m      3\u001b[0m \u001b[1;31m# VTK module is already imported from the previous challenge so we do not need to do it again\u001b[0m\u001b[1;33m\u001b[0m\u001b[1;33m\u001b[0m\u001b[0m\n\u001b[0;32m      4\u001b[0m \u001b[1;33m\u001b[0m\u001b[0m\n\u001b[0;32m      5\u001b[0m \u001b[1;31m# create a reader for your unstructured_grid\u001b[0m\u001b[1;33m\u001b[0m\u001b[1;33m\u001b[0m\u001b[0m\n",
      "\u001b[1;31mModuleNotFoundError\u001b[0m: No module named 'vtk'"
     ]
    }
   ],
   "source": [
    "import vtk \n",
    "\n",
    "# VTK module is already imported from the previous challenge so we do not need to do it again\n",
    "\n",
    "# create a reader for your unstructured_grid\n",
    "ugridReader = vtk.vtkUnstructuredGridReader()\n",
    "ugridReader.SetFileName(\"data/exercise_op1.vtk\")\n",
    "ugridReader.Update()\n",
    "\n",
    "ugrid = ugridReader.GetOutput()\n",
    "scalarRange = ugrid.GetScalarRange()\n",
    "\n",
    "# mapper\n",
    "ugridMapper = vtk.vtkDataSetMapper()\n",
    "ugridMapper.SetInputData(ugrid)\n",
    "ugridMapper.SetScalarModeToUseCellData()\n",
    "#ugridMapper.SetScalarModeToUsePointData()\n",
    "ugridMapper.SetScalarRange(scalarRange)\n",
    "\n",
    "# actor\n",
    "ugridActor = vtk.vtkActor()\n",
    "ugridActor.SetMapper(ugridMapper)\n",
    "\n",
    "# create a rendering window and renderer\n",
    "renderer = vtk.vtkRenderer()\n",
    "renderer.SetBackground(0.5, 0.5, 0.5)\n",
    "renderer.AddActor(ugridActor)\n",
    "\n",
    "renderWindow = vtk.vtkRenderWindow()\n",
    "renderWindow.SetSize(500, 500)\n",
    "renderWindow.AddRenderer(renderer)\n",
    "renderWindow.Render()\n",
    "\n",
    "# create and enable a renderWindowInteractor\n",
    "iren = vtk.vtkRenderWindowInteractor()\n",
    "iren.SetRenderWindow(renderWindow)\n",
    "iren.Start()"
   ]
  },
  {
   "cell_type": "markdown",
   "metadata": {},
   "source": [
    "## Challenge 1"
   ]
  },
  {
   "cell_type": "code",
   "execution_count": 1,
   "metadata": {},
   "outputs": [
    {
     "ename": "ModuleNotFoundError",
     "evalue": "No module named 'vtk'",
     "output_type": "error",
     "traceback": [
      "\u001b[1;31m---------------------------------------------------------------------------\u001b[0m",
      "\u001b[1;31mModuleNotFoundError\u001b[0m                       Traceback (most recent call last)",
      "\u001b[1;32m<ipython-input-1-59fe38963635>\u001b[0m in \u001b[0;36m<module>\u001b[1;34m()\u001b[0m\n\u001b[1;32m----> 1\u001b[1;33m \u001b[1;32mimport\u001b[0m \u001b[0mvtk\u001b[0m\u001b[1;33m\u001b[0m\u001b[0m\n\u001b[0m\u001b[0;32m      2\u001b[0m \u001b[1;33m\u001b[0m\u001b[0m\n\u001b[0;32m      3\u001b[0m \u001b[0mpl3d\u001b[0m \u001b[1;33m=\u001b[0m \u001b[0mvtk\u001b[0m\u001b[1;33m.\u001b[0m\u001b[0mvtkMultiBlockPLOT3DReader\u001b[0m\u001b[1;33m(\u001b[0m\u001b[1;33m)\u001b[0m\u001b[1;33m\u001b[0m\u001b[0m\n\u001b[0;32m      4\u001b[0m \u001b[0mxyx_file\u001b[0m \u001b[1;33m=\u001b[0m \u001b[1;34m\"data/combxyz.bin\"\u001b[0m\u001b[1;33m\u001b[0m\u001b[0m\n\u001b[0;32m      5\u001b[0m \u001b[0mq_file\u001b[0m \u001b[1;33m=\u001b[0m \u001b[1;34m\"data/combq.bin\"\u001b[0m\u001b[1;33m\u001b[0m\u001b[0m\n",
      "\u001b[1;31mModuleNotFoundError\u001b[0m: No module named 'vtk'"
     ]
    }
   ],
   "source": [
    "import vtk \n",
    "\n",
    "pl3d = vtk.vtkMultiBlockPLOT3DReader()\n",
    "xyx_file = \"data/combxyz.bin\"\n",
    "q_file = \"data/combq.bin\"\n",
    "pl3d.SetXYZFileName(xyx_file)\n",
    "pl3d.SetQFileName(q_file)\n",
    "pl3d.SetScalarFunctionNumber(100)\n",
    "pl3d.SetVectorFunctionNumber(202)\n",
    "pl3d.Update()\n",
    "\n",
    "# create a data source\n",
    "blocks = pl3d.GetOutput()\n",
    "b0 = blocks.GetBlock(0)\n",
    "points = vtk.vtkVertexGlyphFilter()\n",
    "points.SetInputData(b0)\n",
    "outline = vtk.vtkStructuredGridOutlineFilter()\n",
    "outline.SetInputData(b0)\n",
    "\n",
    "\n",
    "# mapper\n",
    "outlineMapper = vtk.vtkPolyDataMapper()\n",
    "outlineMapper.SetInputConnection(outline.GetOutputPort())\n",
    "\n",
    "scalarsMapper = vtk.vtkPolyDataMapper()\n",
    "scalarsMapper.SetInputConnection(points.GetOutputPort())\n",
    "scalarsMapper.SetScalarModeToUsePointData()\n",
    "\n",
    "# actor\n",
    "outlineActor = vtk.vtkActor()\n",
    "outlineActor.SetMapper(outlineMapper)\n",
    "outlineActor.GetProperty().SetColor(1,1,1)\n",
    "\n",
    "scalarsActor = vtk.vtkActor()\n",
    "scalarsActor.SetMapper(scalarsMapper)\n",
    "\n",
    "# create a rendering window and renderer\n",
    "renderer = vtk.vtkRenderer()\n",
    "renderWindow = vtk.vtkRenderWindow()\n",
    "renderer.SetBackground(0.5, 0.5, 0.5)\n",
    "renderWindow.AddRenderer(renderer)\n",
    "\n",
    "\n",
    "# create and enable a renderWindowInteractor\n",
    "interactor = vtk.vtkRenderWindowInteractor()\n",
    "interactor.SetInteractorStyle(vtk.vtkInteractorStyleTrackballCamera())\n",
    "\n",
    "renderWindow.SetInteractor(interactor)\n",
    "renderer.AddActor(outlineActor)\n",
    "renderer.AddActor(scalarsActor)\n",
    "\n",
    "interactor.SetRenderWindow(renderWindow)\n",
    "interactor.Start()"
   ]
  },
  {
   "cell_type": "code",
   "execution_count": null,
   "metadata": {
    "collapsed": true
   },
   "outputs": [],
   "source": []
  }
 ],
 "metadata": {
  "kernelspec": {
   "display_name": "Python 3",
   "language": "python",
   "name": "python3"
  },
  "language_info": {
   "codemirror_mode": {
    "name": "ipython",
    "version": 3
   },
   "file_extension": ".py",
   "mimetype": "text/x-python",
   "name": "python",
   "nbconvert_exporter": "python",
   "pygments_lexer": "ipython3",
   "version": "3.6.1"
  }
 },
 "nbformat": 4,
 "nbformat_minor": 2
}
